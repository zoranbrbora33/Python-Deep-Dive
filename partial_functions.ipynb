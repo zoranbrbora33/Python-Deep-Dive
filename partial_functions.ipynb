{
 "cells": [
  {
   "cell_type": "markdown",
   "metadata": {},
   "source": [
    "# Reducing Function Arguments"
   ]
  },
  {
   "cell_type": "code",
   "execution_count": 40,
   "metadata": {},
   "outputs": [],
   "source": [
    "# my_func still needs 3 arguments\n",
    "def my_func(a, b, c):\n",
    "    print(a, b, c)\n",
    "    \n",
    "# providin 2 arguments in fn function\n",
    "def fn(b, c):\n",
    "    return my_func(10 , b, c)"
   ]
  },
  {
   "cell_type": "code",
   "execution_count": 41,
   "metadata": {},
   "outputs": [
    {
     "name": "stdout",
     "output_type": "stream",
     "text": [
      "10 15 20\n"
     ]
    }
   ],
   "source": [
    "# calling fn\n",
    "fn(15 , 20)"
   ]
  },
  {
   "cell_type": "code",
   "execution_count": 42,
   "metadata": {},
   "outputs": [],
   "source": [
    "# doing the same thing using lambda\n",
    "f = lambda b, c: my_func(10, b, c)"
   ]
  },
  {
   "cell_type": "code",
   "execution_count": 43,
   "metadata": {},
   "outputs": [
    {
     "name": "stdout",
     "output_type": "stream",
     "text": [
      "10 15 20\n"
     ]
    }
   ],
   "source": [
    "f(15, 20)"
   ]
  },
  {
   "cell_type": "markdown",
   "metadata": {},
   "source": [
    "# partial module"
   ]
  },
  {
   "cell_type": "code",
   "execution_count": 44,
   "metadata": {},
   "outputs": [],
   "source": [
    "from functools import partial"
   ]
  },
  {
   "cell_type": "code",
   "execution_count": 45,
   "metadata": {},
   "outputs": [],
   "source": [
    "# first arguments is callable function\n",
    "# other arguments are defaults\n",
    "f = partial(my_func, 10)"
   ]
  },
  {
   "cell_type": "code",
   "execution_count": 46,
   "metadata": {},
   "outputs": [
    {
     "name": "stdout",
     "output_type": "stream",
     "text": [
      "10 20 30\n"
     ]
    }
   ],
   "source": [
    "f(20, 30)"
   ]
  },
  {
   "cell_type": "code",
   "execution_count": 47,
   "metadata": {},
   "outputs": [],
   "source": [
    "# handling more complex arguments\n",
    "def my_func(a, b, *args, k1, k2, **kwargs):\n",
    "    print(a, b, args, k1, k2, kwargs)\n",
    "    \n",
    "f = partial(my_func, 10, k1 = 'a')"
   ]
  },
  {
   "cell_type": "code",
   "execution_count": 48,
   "metadata": {},
   "outputs": [
    {
     "name": "stdout",
     "output_type": "stream",
     "text": [
      "10 20 (30, 40, 50) a b {'k3': 'c', 'k4': 'd'}\n"
     ]
    }
   ],
   "source": [
    "f(20, 30, 40, 50, k2 = 'b', k3 = 'c', k4 = 'd')"
   ]
  },
  {
   "cell_type": "markdown",
   "metadata": {},
   "source": [
    "# Problems with defaults"
   ]
  },
  {
   "cell_type": "code",
   "execution_count": 49,
   "metadata": {},
   "outputs": [
    {
     "name": "stdout",
     "output_type": "stream",
     "text": [
      "10 20 30\n"
     ]
    }
   ],
   "source": [
    "def my_func(a, b, c):\n",
    "    print(a, b, c)\n",
    "    \n",
    "a = 10\n",
    "# default point to the memory address of 10\n",
    "f = partial(my_func, a)\n",
    "f(20 ,30)"
   ]
  },
  {
   "cell_type": "code",
   "execution_count": 50,
   "metadata": {},
   "outputs": [
    {
     "name": "stdout",
     "output_type": "stream",
     "text": [
      "10 20 30\n"
     ]
    }
   ],
   "source": [
    "a = 100\n",
    "\n",
    "# a in partial is still 10 because reference to memory address was not changed\n",
    "f(20, 30)"
   ]
  }
 ],
 "metadata": {
  "kernelspec": {
   "display_name": "Python 3",
   "language": "python",
   "name": "python3"
  },
  "language_info": {
   "codemirror_mode": {
    "name": "ipython",
    "version": 3
   },
   "file_extension": ".py",
   "mimetype": "text/x-python",
   "name": "python",
   "nbconvert_exporter": "python",
   "pygments_lexer": "ipython3",
   "version": "3.7.3"
  }
 },
 "nbformat": 4,
 "nbformat_minor": 2
}
