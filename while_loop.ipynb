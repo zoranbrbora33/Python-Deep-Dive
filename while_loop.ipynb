{
 "cells": [
  {
   "cell_type": "markdown",
   "metadata": {},
   "source": [
    "# Execute at leat once\n",
    "\n",
    "I can use while loop to at least executes once because python doesn't have `do while` loop.\n",
    "I can use `flag` to set Boolean value that controls the loop or I can use `break`."
   ]
  },
  {
   "cell_type": "code",
   "execution_count": 11,
   "metadata": {},
   "outputs": [
    {
     "name": "stdout",
     "output_type": "stream",
     "text": [
      "5\n",
      "execute once\n"
     ]
    }
   ],
   "source": [
    "i = 5\n",
    "flag = True\n",
    "\n",
    "while flag:\n",
    "    print(i)\n",
    "    if i >= 5:\n",
    "        flag = False\n",
    "        print(f'execute once')"
   ]
  }
 ],
 "metadata": {
  "kernelspec": {
   "display_name": "Python 3",
   "language": "python",
   "name": "python3"
  },
  "language_info": {
   "codemirror_mode": {
    "name": "ipython",
    "version": 3
   },
   "file_extension": ".py",
   "mimetype": "text/x-python",
   "name": "python",
   "nbconvert_exporter": "python",
   "pygments_lexer": "ipython3",
   "version": "3.7.3"
  }
 },
 "nbformat": 4,
 "nbformat_minor": 2
}
