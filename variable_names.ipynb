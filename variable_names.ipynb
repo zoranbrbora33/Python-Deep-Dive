{
 "cells": [
  {
   "cell_type": "markdown",
   "metadata": {},
   "source": [
    "# Identifier names\n",
    "\n",
    "- case-sensitive\n",
    "- must start with underscore or letter\n",
    "- followed by any number of underscores, letters, or digits\n",
    "- cannot be reserved words"
   ]
  },
  {
   "cell_type": "markdown",
   "metadata": {},
   "source": [
    "# Conventions\n",
    "\n",
    "single underscore `_my_var`\n",
    "- indicates `internal use` or `private` objects\n",
    "- objects names this way will not be imported:\n",
    "`from module import *`\n",
    "\n",
    "double underscore `__my_var`\n",
    "- `mangle` class attributes - useful in inheritance chains\n",
    "\n",
    "double underscore `__my_var__`\n",
    "- used for system-defined names that have a special meaning to the interpreter\n",
    "- don't invent, stick to the ones pre-defined\n",
    "`x < y -> x.__lt__(y)`\n",
    "\n"
   ]
  },
  {
   "cell_type": "markdown",
   "metadata": {},
   "source": [
    "# Other Naming Conventions\n",
    "\n",
    "- `Packages` short, all-lowercase, preferd no underscore -> `utilities`\n",
    "- `Modules` short, all-lowercase, can have underscores -> `db_utils` `dbutils`\n",
    "- `Classes` CapWords convention -> `BankAccount`\n",
    "- `Functions` snale_case -> `open_account`\n",
    "- `Variables` snake_case -> `account_id`\n",
    "- `Constants` all-uppercase, seperated by underscores -> `MIN_APR`"
   ]
  }
 ],
 "metadata": {
  "language_info": {
   "name": "python"
  }
 },
 "nbformat": 4,
 "nbformat_minor": 2
}
