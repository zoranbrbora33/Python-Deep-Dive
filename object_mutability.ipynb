{
 "cells": [
  {
   "cell_type": "markdown",
   "metadata": {},
   "source": [
    "# Mutable\n",
    "\n",
    "That is the object whose internal state can be changed.\n",
    "\n",
    "- Numbers\n",
    "- Strings\n",
    "- Tuples\n",
    "- Frozen Sets\n",
    "- User-Defined Classes\n",
    "\n",
    "# Immutable\n",
    "\n",
    "Object whose internal state cannot be changed.\n",
    "\n",
    "- Lists\n",
    "- Sets\n",
    "- Dictionaries\n",
    "- User-Defined Classes"
   ]
  },
  {
   "cell_type": "markdown",
   "metadata": {},
   "source": [
    "# Warning\n",
    "\n",
    "Imutability is not something that is frozen. State of the objects can still change."
   ]
  },
  {
   "cell_type": "code",
   "execution_count": 9,
   "metadata": {},
   "outputs": [],
   "source": [
    "# This is frozen\n",
    "# Tuple is a reference to imutable object\n",
    "# The members are reference to integers which are imutable objects also\n",
    "t = (1, 2, 3)"
   ]
  },
  {
   "cell_type": "code",
   "execution_count": 11,
   "metadata": {},
   "outputs": [
    {
     "data": {
      "text/plain": [
       "([1, 2, 7], [3, 4, 9])"
      ]
     },
     "execution_count": 11,
     "metadata": {},
     "output_type": "execute_result"
    }
   ],
   "source": [
    "# Here tuple is a reference to imutable object\n",
    "# But internal objects are reference to mutable objects lists and the are mutable\n",
    "a = [1, 2]\n",
    "b = [3, 4]\n",
    "t = (a, b)\n",
    "\n",
    "t[0].append(7)\n",
    "t[1].append(9)\n",
    "t"
   ]
  }
 ],
 "metadata": {
  "kernelspec": {
   "display_name": "Python 3",
   "language": "python",
   "name": "python3"
  },
  "language_info": {
   "codemirror_mode": {
    "name": "ipython",
    "version": 3
   },
   "file_extension": ".py",
   "mimetype": "text/x-python",
   "name": "python",
   "nbconvert_exporter": "python",
   "pygments_lexer": "ipython3",
   "version": "3.7.3"
  }
 },
 "nbformat": 4,
 "nbformat_minor": 2
}
