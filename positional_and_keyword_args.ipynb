{
 "cells": [
  {
   "cell_type": "markdown",
   "metadata": {},
   "source": [
    "# Positional Arguments\n",
    "\n",
    "- assigning arguments to parameters via order in which they are passed"
   ]
  },
  {
   "cell_type": "code",
   "execution_count": 2,
   "metadata": {},
   "outputs": [
    {
     "name": "stdout",
     "output_type": "stream",
     "text": [
      "a = 1, b = 2, c = 3\n"
     ]
    }
   ],
   "source": [
    "def my_func(a, b, c):\n",
    "    print(f'a = {a}, b = {b}, c = {c}')\n",
    "\n",
    "my_func(1, 2, 3)"
   ]
  },
  {
   "cell_type": "markdown",
   "metadata": {},
   "source": [
    "# Default Values\n",
    "\n",
    "- positional argument can be made optional by specifying default value to the corresponding parameter\n",
    "- if positional parameter is defined with a default value, every positional parameter after it must also be given a default value\n",
    "- default arguments can be omitted"
   ]
  },
  {
   "cell_type": "code",
   "execution_count": 3,
   "metadata": {},
   "outputs": [
    {
     "name": "stdout",
     "output_type": "stream",
     "text": [
      "a = 1, b = 5, c = 10\n"
     ]
    }
   ],
   "source": [
    "def my_func(a, b = 5, c = 10):\n",
    "    print(f'a = {a}, b = {b}, c = {c}')\n",
    "\n",
    "my_func(1)"
   ]
  },
  {
   "cell_type": "markdown",
   "metadata": {},
   "source": [
    "# Keyword Arguments\n",
    "\n",
    "- Positional arguments can optionally be specified by using the parameter name wheter or not the parameters have default values\n",
    "- once named argumant is used, all arguments thereafter must be named too"
   ]
  },
  {
   "cell_type": "code",
   "execution_count": 4,
   "metadata": {},
   "outputs": [
    {
     "name": "stdout",
     "output_type": "stream",
     "text": [
      "a = 5, b = 10, c = 15\n"
     ]
    }
   ],
   "source": [
    "def my_func(a, b = 5, c = 10):\n",
    "    print(f'a = {a}, b = {b}, c = {c}')\n",
    "\n",
    "my_func(c = 15, b = 10, a = 5)"
   ]
  },
  {
   "cell_type": "code",
   "execution_count": 7,
   "metadata": {},
   "outputs": [
    {
     "name": "stdout",
     "output_type": "stream",
     "text": [
      "a = 10, b = 10, c = 15\n"
     ]
    }
   ],
   "source": [
    "my_func(10, c = 15, b = 10)"
   ]
  },
  {
   "cell_type": "code",
   "execution_count": 8,
   "metadata": {},
   "outputs": [
    {
     "name": "stdout",
     "output_type": "stream",
     "text": [
      "a = 10, b = 5, c = 15\n"
     ]
    }
   ],
   "source": [
    "my_func(10, c = 15)"
   ]
  }
 ],
 "metadata": {
  "kernelspec": {
   "display_name": "Python 3",
   "language": "python",
   "name": "python3"
  },
  "language_info": {
   "codemirror_mode": {
    "name": "ipython",
    "version": 3
   },
   "file_extension": ".py",
   "mimetype": "text/x-python",
   "name": "python",
   "nbconvert_exporter": "python",
   "pygments_lexer": "ipython3",
   "version": "3.7.3"
  }
 },
 "nbformat": 4,
 "nbformat_minor": 2
}
