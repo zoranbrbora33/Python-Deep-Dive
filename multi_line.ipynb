{
 "cells": [
  {
   "cell_type": "markdown",
   "metadata": {},
   "source": [
    "## Comments can't be part of the statement, not even a multi-line statement"
   ]
  },
  {
   "cell_type": "code",
   "execution_count": null,
   "metadata": {},
   "outputs": [],
   "source": [
    "if a \\\n",
    "    and b \\ # comment - NOT VALID!!!\n",
    "    and c: "
   ]
  },
  {
   "cell_type": "markdown",
   "metadata": {},
   "source": [
    "# Multi-line String Literals\n",
    "\n",
    "- Can be created using triple delimeters\n",
    "\n",
    "'''This is \n",
    "a multi-line string'''\n",
    "\n",
    "\"\"\"This is a \n",
    "multi-line string\"\"\"\n",
    "\n",
    "- Non-visible chracters such as newlines, tabs, etc are actually part of the string\n",
    "- Escaped characters can be used (\\n, \\t, ...)\n",
    "- Multi-line string is just a regular string\n",
    "- Multi-line strings are not comments, although they can be used as such with special comments called `docstrings`"
   ]
  },
  {
   "cell_type": "code",
   "execution_count": 4,
   "metadata": {},
   "outputs": [
    {
     "name": "stdout",
     "output_type": "stream",
     "text": [
      "This is a\n",
      "mult-line string\n"
     ]
    }
   ],
   "source": [
    "# This looks like breaking the indentation of the code but it is proper code\n",
    "def my_func():\n",
    "    my_str = '''This is a\n",
    "mult-line string'''\n",
    "    return my_str\n",
    "\n",
    "print(my_func())"
   ]
  }
 ],
 "metadata": {
  "kernelspec": {
   "display_name": "Python 3",
   "language": "python",
   "name": "python3"
  },
  "language_info": {
   "codemirror_mode": {
    "name": "ipython",
    "version": 3
   },
   "file_extension": ".py",
   "mimetype": "text/x-python",
   "name": "python",
   "nbconvert_exporter": "python",
   "pygments_lexer": "ipython3",
   "version": "3.7.3"
  }
 },
 "nbformat": 4,
 "nbformat_minor": 2
}
