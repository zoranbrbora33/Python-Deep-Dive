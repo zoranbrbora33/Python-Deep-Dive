{
 "cells": [
  {
   "cell_type": "markdown",
   "metadata": {},
   "source": [
    "# Interning\n",
    "\n",
    "- Reusing objects on-demand\n",
    "- At startup, Python pre-loads a global list of integers in the range [-5, 256]\n",
    "- When integer is referenced in that range, Python will use the cached version of that object (Singletons)"
   ]
  },
  {
   "cell_type": "code",
   "execution_count": 1,
   "metadata": {},
   "outputs": [],
   "source": [
    "# Python just has to point to the existing reference for 10\n",
    "a = 10\n",
    "\n",
    "# For this value new object is created every time\n",
    "a = 257"
   ]
  }
 ],
 "metadata": {
  "kernelspec": {
   "display_name": "Python 3",
   "language": "python",
   "name": "python3"
  },
  "language_info": {
   "codemirror_mode": {
    "name": "ipython",
    "version": 3
   },
   "file_extension": ".py",
   "mimetype": "text/x-python",
   "name": "python",
   "nbconvert_exporter": "python",
   "pygments_lexer": "ipython3",
   "version": "3.7.3"
  }
 },
 "nbformat": 4,
 "nbformat_minor": 2
}
