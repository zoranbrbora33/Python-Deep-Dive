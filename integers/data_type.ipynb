{
 "cells": [
  {
   "cell_type": "markdown",
   "metadata": {},
   "source": [
    "# The int data type\n",
    "\n",
    "Integers are represented internally using base-2 (binary) digits, not decimals\n",
    "\n",
    "(10011)2 = (19)10 - representing the decimal number 19 requires 5 bits"
   ]
  },
  {
   "cell_type": "markdown",
   "metadata": {},
   "source": [
    "## Largest number\n",
    "\n",
    "(11111111)2 = (255)10"
   ]
  },
  {
   "cell_type": "markdown",
   "metadata": {},
   "source": [
    "## Working with negative numbers\n",
    "\n",
    "- One bit is used for `-` sign and `0` doesn't require a sign, so number is added to the bottom. Range is: [-128, 127]"
   ]
  },
  {
   "cell_type": "markdown",
   "metadata": {},
   "source": [
    "## 16 bits\n",
    "\n",
    "(2)15 = 32768 -> Range [-32768, 32767]"
   ]
  },
  {
   "cell_type": "markdown",
   "metadata": {},
   "source": [
    "## 32 bits\n",
    "\n",
    "(2)31 = 2_147_483_648 -> Range [-2_147_483_648, 2_147_483_647]"
   ]
  },
  {
   "cell_type": "markdown",
   "metadata": {},
   "source": [
    "## Working with unsigned numbers\n",
    "\n",
    "[0, (2)32] -> Range [0, 4_294_967_296]"
   ]
  },
  {
   "cell_type": "markdown",
   "metadata": {},
   "source": [
    "# Python int data type\n",
    "\n",
    "- The int object usese variable number of bits\n",
    "- Limited only by the amount of memory available\n",
    "- Larger number will use more memory and standard operations will run slower as numbers get larger"
   ]
  },
  {
   "cell_type": "code",
   "execution_count": 2,
   "metadata": {},
   "outputs": [
    {
     "data": {
      "text/plain": [
       "28"
      ]
     },
     "execution_count": 2,
     "metadata": {},
     "output_type": "execute_result"
    }
   ],
   "source": [
    "import sys\n",
    "\n",
    "# returning size of an object in bytes\n",
    "sys.getsizeof(100000)"
   ]
  }
 ],
 "metadata": {
  "kernelspec": {
   "display_name": "Python 3",
   "language": "python",
   "name": "python3"
  },
  "language_info": {
   "codemirror_mode": {
    "name": "ipython",
    "version": 3
   },
   "file_extension": ".py",
   "mimetype": "text/x-python",
   "name": "python",
   "nbconvert_exporter": "python",
   "pygments_lexer": "ipython3",
   "version": "3.7.3"
  }
 },
 "nbformat": 4,
 "nbformat_minor": 2
}
