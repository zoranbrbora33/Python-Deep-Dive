{
 "cells": [
  {
   "cell_type": "markdown",
   "metadata": {},
   "source": [
    "# int class provides multiple constructors"
   ]
  },
  {
   "cell_type": "code",
   "execution_count": 5,
   "metadata": {},
   "outputs": [
    {
     "name": "stdout",
     "output_type": "stream",
     "text": [
      "10 -10 1 10 10\n"
     ]
    }
   ],
   "source": [
    "from decimal import Decimal\n",
    "\n",
    "a = int(10.9) # truncation\n",
    "b = int(-10.9) # truncation\n",
    "c = int(True)\n",
    "d = int(Decimal('10.9')) # truncation\n",
    "e = int('10') # strings can be parsed to numbers\n",
    "\n",
    "print(a, b, c, d, e)"
   ]
  },
  {
   "cell_type": "markdown",
   "metadata": {},
   "source": [
    "# Number Base\n",
    "\n",
    "- When used with a string it has an optional second parameter base (2..36)\n",
    "- If base not specified, the default is base 10"
   ]
  },
  {
   "cell_type": "code",
   "execution_count": 6,
   "metadata": {},
   "outputs": [
    {
     "name": "stdout",
     "output_type": "stream",
     "text": [
      "10\n",
      "10\n"
     ]
    }
   ],
   "source": [
    "print(int('1010', 2))\n",
    "print(int('1010', base=2))"
   ]
  },
  {
   "cell_type": "markdown",
   "metadata": {},
   "source": [
    "# Change integer from base 10 to another base\n",
    "\n",
    "bin() -> base-2\n",
    "oct() -> base-8\n",
    "hex() -> base-16\n",
    "\n",
    "- The prefixes help document the base of the number:\n",
    "int('0xA', 16) -> (10)10\n",
    "- The prefixes are consistent with literal integers using a base prefix"
   ]
  },
  {
   "cell_type": "code",
   "execution_count": 7,
   "metadata": {},
   "outputs": [
    {
     "name": "stdout",
     "output_type": "stream",
     "text": [
      "0b1010\n",
      "0o12\n",
      "0xa\n"
     ]
    }
   ],
   "source": [
    "print(bin(10))\n",
    "print(oct(10))\n",
    "print(hex(10))"
   ]
  },
  {
   "cell_type": "code",
   "execution_count": 8,
   "metadata": {},
   "outputs": [
    {
     "name": "stdout",
     "output_type": "stream",
     "text": [
      "10 10 10\n"
     ]
    }
   ],
   "source": [
    "print(0b1010, 0o12, 0xA)"
   ]
  },
  {
   "cell_type": "markdown",
   "metadata": {},
   "source": [
    "# Base Change Algorithm\n",
    "\n",
    "n = base-10 number (>= 0) b = base (>= 2)\n",
    "\n",
    "if b < 2 or n < 0: raise exception\n",
    "if n == 0: return [0]\n",
    "\n",
    "digits = []\n",
    "\n",
    "while n > 0:\n",
    "\n",
    "    m = n % b\n",
    "    n = n // b\n",
    "    digits.insert(0, m)"
   ]
  },
  {
   "cell_type": "markdown",
   "metadata": {},
   "source": [
    "# Encodings\n",
    "\n",
    "Python uses `0-9` and `a-z` (case insensitive) and is therefore limited to `base <= 36`"
   ]
  },
  {
   "cell_type": "markdown",
   "metadata": {},
   "source": [
    "# Enconding Algorithm\n",
    "\n",
    "digits = [...]\n",
    "map = ' '\n",
    "\n",
    "encoding = ''\n",
    "for d in digits:\n",
    "\n",
    "    encoding = ''.join([map[d] for d in digits])"
   ]
  },
  {
   "cell_type": "markdown",
   "metadata": {},
   "source": [
    "# divmod()\n",
    "\n",
    "divmod(x, y)\n",
    "- x: The dividend (the number to be divided)\n",
    "- y: The divisor (the number to divide by)\n",
    "\n",
    "The function then returns a tuple (quotient, remainder) where:\n",
    "\n",
    "- quotient is the integer part of the division (x // y).\n",
    "- remainder is the remainder of the division (x % y).\n"
   ]
  },
  {
   "cell_type": "code",
   "execution_count": 10,
   "metadata": {},
   "outputs": [
    {
     "name": "stdout",
     "output_type": "stream",
     "text": [
      "(3, 1)\n"
     ]
    }
   ],
   "source": [
    "result = divmod(10, 3)\n",
    "print(result)  \n"
   ]
  }
 ],
 "metadata": {
  "kernelspec": {
   "display_name": "Python 3",
   "language": "python",
   "name": "python3"
  },
  "language_info": {
   "codemirror_mode": {
    "name": "ipython",
    "version": 3
   },
   "file_extension": ".py",
   "mimetype": "text/x-python",
   "name": "python",
   "nbconvert_exporter": "python",
   "pygments_lexer": "ipython3",
   "version": "3.7.3"
  }
 },
 "nbformat": 4,
 "nbformat_minor": 2
}
