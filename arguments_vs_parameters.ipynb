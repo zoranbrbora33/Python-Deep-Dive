{
 "cells": [
  {
   "cell_type": "markdown",
   "metadata": {},
   "source": [
    "# Semantics\n",
    "\n",
    "- def my_func(a, b): -> a and b are called parameters\n",
    "\n",
    "- my_func(x, y) -> x and y are called arguments, they are passed by reference (memory addresses are passed)"
   ]
  }
 ],
 "metadata": {
  "language_info": {
   "name": "python"
  }
 },
 "nbformat": 4,
 "nbformat_minor": 2
}
