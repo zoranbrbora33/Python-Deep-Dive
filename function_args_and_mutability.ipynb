{
 "cells": [
  {
   "cell_type": "markdown",
   "metadata": {},
   "source": [
    "## Immutable objects are safe from unintended side-effects"
   ]
  },
  {
   "cell_type": "code",
   "execution_count": 2,
   "metadata": {},
   "outputs": [
    {
     "data": {
      "text/plain": [
       "'Zoran Brbora'"
      ]
     },
     "execution_count": 2,
     "metadata": {},
     "output_type": "execute_result"
    }
   ],
   "source": [
    "my_var = 'Zoran'\n",
    "\n",
    "def process(s):\n",
    "    # Here `s` references new memory address and the value is `Zoran Brbora`\n",
    "    s = s + ' Brbora'\n",
    "    return s\n",
    "\n",
    "# `my_var` still references the same memory address and the value is the same `Zoran`\n",
    "process(my_var)"
   ]
  },
  {
   "cell_type": "markdown",
   "metadata": {},
   "source": [
    "## Mutable objects are not safe from unintended side-effects"
   ]
  },
  {
   "cell_type": "code",
   "execution_count": 4,
   "metadata": {},
   "outputs": [],
   "source": [
    "def process(lst):\n",
    "    # `lst` and `my_list` reference the same memory address and value of `my_list` changed\n",
    "    lst.append(100)\n",
    "    \n",
    "\n",
    "my_list = [1, 2, 3]\n",
    "\n",
    "# internal state of the list changed - [1, 2, 3, 100]\n",
    "process(my_list)"
   ]
  }
 ],
 "metadata": {
  "kernelspec": {
   "display_name": "Python 3",
   "language": "python",
   "name": "python3"
  },
  "language_info": {
   "codemirror_mode": {
    "name": "ipython",
    "version": 3
   },
   "file_extension": ".py",
   "mimetype": "text/x-python",
   "name": "python",
   "nbconvert_exporter": "python",
   "pygments_lexer": "ipython3",
   "version": "3.7.3"
  }
 },
 "nbformat": 4,
 "nbformat_minor": 2
}
