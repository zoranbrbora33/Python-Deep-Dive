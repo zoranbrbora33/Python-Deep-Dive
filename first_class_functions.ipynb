{
 "cells": [
  {
   "cell_type": "markdown",
   "metadata": {},
   "source": [
    "# First-Class Objects\n",
    "\n",
    "- Can be passed to a function as an argument\n",
    "- Can be returned from a function\n",
    "- Can be assigned to a variable\n",
    "- Can be stored in a data structure\n",
    "- Functions are also first-class objects"
   ]
  },
  {
   "cell_type": "markdown",
   "metadata": {},
   "source": [
    "# Higher-Order Functions\n",
    "\n",
    "- takes a function as an argument\n",
    "- return a function"
   ]
  }
 ],
 "metadata": {
  "language_info": {
   "name": "python"
  }
 },
 "nbformat": 4,
 "nbformat_minor": 2
}
