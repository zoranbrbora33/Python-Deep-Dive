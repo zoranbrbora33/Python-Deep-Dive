{
 "cells": [
  {
   "cell_type": "code",
   "execution_count": 9,
   "metadata": {},
   "outputs": [
    {
     "name": "stdout",
     "output_type": "stream",
     "text": [
      "THE ITSY BITSY SPIDER CLIMBED UP THE WATERSPOUT.\n",
      "\n",
      "DOWN CAME THE RAIN\n",
      "\n",
      "AND WASHED THE SPIDER OUT.\n",
      "\n",
      "OUT CAME THE SUN\n",
      "\n",
      "AND DRIED UP ALL THE RAIN\n",
      "\n",
      "AND THE ITSY BITSY SPIDER CLIMBED UP THE SPOUT AGAIN.\n"
     ]
    }
   ],
   "source": [
    "# the spaces between lines because of the newline character at the end of each line\n",
    "with open(\"spider.txt\") as file:\n",
    "    for line in file:\n",
    "        print(line.upper())"
   ]
  },
  {
   "cell_type": "code",
   "execution_count": 10,
   "metadata": {},
   "outputs": [
    {
     "name": "stdout",
     "output_type": "stream",
     "text": [
      "THE ITSY BITSY SPIDER CLIMBED UP THE WATERSPOUT.\n",
      "DOWN CAME THE RAIN\n",
      "AND WASHED THE SPIDER OUT.\n",
      "OUT CAME THE SUN\n",
      "AND DRIED UP ALL THE RAIN\n",
      "AND THE ITSY BITSY SPIDER CLIMBED UP THE SPOUT AGAIN.\n"
     ]
    }
   ],
   "source": [
    "# newline character is removed\n",
    "with open(\"spider.txt\") as file:\n",
    "    for line in file:\n",
    "        print(line.strip().upper())"
   ]
  },
  {
   "cell_type": "code",
   "execution_count": 11,
   "metadata": {},
   "outputs": [
    {
     "name": "stdout",
     "output_type": "stream",
     "text": [
      "['AND DRIED UP ALL THE RAIN\\n', 'AND THE ITSY BITSY SPIDER CLIMBED UP THE SPOUT AGAIN.', 'AND WASHED THE SPIDER OUT.\\n', 'DOWN CAME THE RAIN\\n', 'OUT CAME THE SUN\\n', 'THE ITSY BITSY SPIDER CLIMBED UP THE WATERSPOUT.\\n']\n"
     ]
    }
   ],
   "source": [
    "# sorting lines ans explicitly showing newline character\n",
    "file = open(\"spider.txt\")\n",
    "lines = file.readlines()\n",
    "file.close()\n",
    "lines.sort()\n",
    "print(lines)"
   ]
  }
 ],
 "metadata": {
  "kernelspec": {
   "display_name": "Python 3",
   "language": "python",
   "name": "python3"
  },
  "language_info": {
   "codemirror_mode": {
    "name": "ipython",
    "version": 3
   },
   "file_extension": ".py",
   "mimetype": "text/x-python",
   "name": "python",
   "nbconvert_exporter": "python",
   "pygments_lexer": "ipython3",
   "version": "3.7.3"
  }
 },
 "nbformat": 4,
 "nbformat_minor": 2
}
