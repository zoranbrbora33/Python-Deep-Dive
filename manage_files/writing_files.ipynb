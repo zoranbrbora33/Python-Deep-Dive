{
 "cells": [
  {
   "cell_type": "code",
   "execution_count": 2,
   "metadata": {},
   "outputs": [],
   "source": [
    "# open() statement creates a file object and assigns it to the variable file\n",
    "# open() function takes two arguments: the name of the file and the mode. In this case, the mode is w, which means \"write\"\n",
    "# open() function creates a new file if it doesn't exist, or to overwrite the existing file if it does exist\n",
    "with open(\"novel.txt\", \"w\") as file:\n",
    "    file.write(\"It was a dark and stormy night\")"
   ]
  },
  {
   "cell_type": "markdown",
   "metadata": {},
   "source": [
    "## Mode\n",
    "\n",
    "The mode argument is optional, and it specifies the mode in which the file is opened. If omitted, it defaults to ”r” and that means opening for reading in text mode. The common modes include:\n",
    "\n",
    "“r”  open for reading (default)\n",
    "\n",
    "“w”  open for writing, truncating the file first\n",
    "\n",
    "“x”  open for exclusive creation, failing if the file already exists\n",
    "\n",
    "“a”  open for writing, appending to the end of the file if it exists\n",
    "\n",
    "“+”  open for both reading and writing\n",
    "\n",
    "Attempting to write to a file opened for read (“r”) will cause a runtime error."
   ]
  }
 ],
 "metadata": {
  "kernelspec": {
   "display_name": "Python 3",
   "language": "python",
   "name": "python3"
  },
  "language_info": {
   "codemirror_mode": {
    "name": "ipython",
    "version": 3
   },
   "file_extension": ".py",
   "mimetype": "text/x-python",
   "name": "python",
   "nbconvert_exporter": "python",
   "pygments_lexer": "ipython3",
   "version": "3.7.3"
  }
 },
 "nbformat": 4,
 "nbformat_minor": 2
}
