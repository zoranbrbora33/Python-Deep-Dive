{
 "cells": [
  {
   "cell_type": "code",
   "execution_count": null,
   "metadata": {},
   "outputs": [],
   "source": [
    "# This line opens the file spider.txt in read mode. The open() function returns a file object which is assigned to the variable file. - GREAT WHEN WORKING WITH MULTIPLE FILES, NEED TO REMEMBER TO CLOSE IT WHEN FINISHED\n",
    "file = open(\"spider.txt\")\n",
    "# `readline()` method reads one line from the file and returns it as a string.\n",
    "print(file.readline())\n",
    "print(file.readline())\n",
    "# `read()` method reads the entire file and returns it as a string\n",
    "print(file.read())\n",
    "# `close()` method closes the file\n",
    "file.close()\n",
    "# with statement to open the file spider.txt is in read mode - GREAT WHEN WORKING WITH ONE FILE\n",
    "# as keyword assigns the file object to the variable file\n",
    "with open(\"spider.txt\") as file:\n",
    "    # The code block inside the with statement will be executed, and then the file will be closed automatically.\n",
    "    print(file.readline())"
   ]
  }
 ],
 "metadata": {
  "language_info": {
   "name": "python"
  }
 },
 "nbformat": 4,
 "nbformat_minor": 2
}
