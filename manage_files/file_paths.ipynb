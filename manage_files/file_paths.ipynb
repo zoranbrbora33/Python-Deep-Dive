{
 "cells": [
  {
   "cell_type": "code",
   "execution_count": 4,
   "metadata": {},
   "outputs": [
    {
     "name": "stdout",
     "output_type": "stream",
     "text": [
      "The current working directory is: /Users/Getfreaky17/Desktop/GitHub/Python Deep Dive/manage_files\n"
     ]
    }
   ],
   "source": [
    "import os\n",
    "\n",
    "# Get the current working directory\n",
    "current_directory = os.getcwd()\n",
    "\n",
    "# Print the current working directory\n",
    "print(\"The current working directory is:\", current_directory)"
   ]
  },
  {
   "cell_type": "code",
   "execution_count": 5,
   "metadata": {},
   "outputs": [
    {
     "name": "stdout",
     "output_type": "stream",
     "text": [
      "Current directory before any changes: /Users/Getfreaky17/Desktop/GitHub/Python Deep Dive/manage_files\n",
      "Current directory after changes: /Users/Getfreaky17/Desktop/GitHub/Python Deep Dive/manage_files\n"
     ]
    }
   ],
   "source": [
    "# Initialize an outputs dictionary to store results\n",
    "outputs = {}\n",
    "\n",
    "# Get the current working directory and store it in the outputs dictionary\n",
    "outputs['current_directory_before'] = os.getcwd()\n",
    "\n",
    "# Print the stored current working directory\n",
    "print(\"Current directory before any changes:\", outputs['current_directory_before'])\n",
    "\n",
    "# Perform other operations that might change the working directory\n",
    "# Example: os.chdir('/some/other/directory')\n",
    "\n",
    "# Later, you might want to check the working directory again and compare\n",
    "outputs['current_directory_after'] = os.getcwd()\n",
    "print(\"Current directory after changes:\", outputs['current_directory_after'])\n"
   ]
  }
 ],
 "metadata": {
  "kernelspec": {
   "display_name": "Python 3",
   "language": "python",
   "name": "python3"
  },
  "language_info": {
   "codemirror_mode": {
    "name": "ipython",
    "version": 3
   },
   "file_extension": ".py",
   "mimetype": "text/x-python",
   "name": "python",
   "nbconvert_exporter": "python",
   "pygments_lexer": "ipython3",
   "version": "3.7.3"
  }
 },
 "nbformat": 4,
 "nbformat_minor": 2
}
