{
 "cells": [
  {
   "cell_type": "markdown",
   "metadata": {},
   "source": [
    "# Compare variable Memory addrsses\n",
    "\n",
    "using `is` identity operator\n",
    "\n",
    "var_1 is var_2\n",
    "\n",
    "### Negation\n",
    "\n",
    "var_1 is not var_2\n",
    "\n",
    "not(var_1 is var_2)"
   ]
  },
  {
   "cell_type": "markdown",
   "metadata": {},
   "source": [
    "# Compare Object internal State (data)\n",
    "\n",
    "using `==` equality operator\n",
    "\n",
    "var_1 == var_2\n",
    "\n",
    "### Negation \n",
    "\n",
    "var_1 != var_2"
   ]
  },
  {
   "cell_type": "markdown",
   "metadata": {},
   "source": [
    "# None object\n",
    "\n",
    "- Can be assigned to variables to indicate that they are not set\n",
    "- Python memory manager will always use a shared reference when assigning a variable to `None`\n",
    "- Testing if a varibale is not set or empty by comparing it's memory address to None\n",
    "`a is None`"
   ]
  },
  {
   "cell_type": "code",
   "execution_count": null,
   "metadata": {},
   "outputs": [],
   "source": [
    "# All variables point to the same memory address\n",
    "a = None\n",
    "b = None\n",
    "c = None"
   ]
  }
 ],
 "metadata": {
  "language_info": {
   "name": "python"
  }
 },
 "nbformat": 4,
 "nbformat_minor": 2
}
