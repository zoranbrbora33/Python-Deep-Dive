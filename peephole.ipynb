{
 "cells": [
  {
   "cell_type": "markdown",
   "metadata": {},
   "source": [
    "# Peephole\n",
    "\n",
    "Optimization that can occur at compile time\n",
    "\n",
    "## Constant expressions\n",
    "\n",
    "Python will pre-calculate and use those values\n",
    "\n",
    "- numeric calculations like \n",
    "24 * 60\n",
    "\n",
    "- short sequences length < 20\n",
    "(1, 2) * 5\n",
    "'abc' * 3\n",
    "\n"
   ]
  },
  {
   "cell_type": "markdown",
   "metadata": {},
   "source": [
    "# Membership Tests: Mutables are replaced by immutables\n",
    "\n",
    "- lists -> tuples\n",
    "- sets  -> frozensets\n",
    "\n",
    "if e in [1, 2, 3] -> (1, 2, 3)\n",
    "Here Python replaces list with a set.\n",
    "\n",
    "If ever program needs to run faster it is much better ti use sets thatn tuples or lists."
   ]
  },
  {
   "cell_type": "code",
   "execution_count": 2,
   "metadata": {},
   "outputs": [],
   "source": [
    "def my_func():\n",
    "    a = 24 * 60 # constant\n",
    "    b = (1, 2) * 5 #constant\n",
    "    c = 'abc' * 3 # constant\n",
    "    d = 'ab' * 11 # not constant, more than 20 characters\n",
    "    e = 'the quick brown fox' * 5 # not constant, more than 20 characters\n",
    "    f = ['a', 'b'] * 3 # constant"
   ]
  },
  {
   "cell_type": "code",
   "execution_count": 4,
   "metadata": {},
   "outputs": [
    {
     "data": {
      "text/plain": [
       "(None,\n",
       " 1440,\n",
       " (1, 2, 1, 2, 1, 2, 1, 2, 1, 2),\n",
       " 'abcabcabc',\n",
       " 'ababababababababababab',\n",
       " 'the quick brown foxthe quick brown foxthe quick brown foxthe quick brown foxthe quick brown fox',\n",
       " 'a',\n",
       " 'b',\n",
       " 3)"
      ]
     },
     "execution_count": 4,
     "metadata": {},
     "output_type": "execute_result"
    }
   ],
   "source": [
    "# Here it is counter intuitive because all variables inside a function are constants\n",
    "# Normally d and e are not constants\n",
    "my_func.__code__.co_consts"
   ]
  }
 ],
 "metadata": {
  "kernelspec": {
   "display_name": "Python 3",
   "language": "python",
   "name": "python3"
  },
  "language_info": {
   "codemirror_mode": {
    "name": "ipython",
    "version": 3
   },
   "file_extension": ".py",
   "mimetype": "text/x-python",
   "name": "python",
   "nbconvert_exporter": "python",
   "pygments_lexer": "ipython3",
   "version": "3.7.3"
  }
 },
 "nbformat": 4,
 "nbformat_minor": 2
}
