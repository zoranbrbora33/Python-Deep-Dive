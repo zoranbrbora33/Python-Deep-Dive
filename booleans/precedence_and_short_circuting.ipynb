{
 "cells": [
  {
   "cell_type": "markdown",
   "metadata": {},
   "source": [
    "# Python does left-to right evaluation\n",
    "\n",
    "A or B or C -> (A or B) or C\n",
    "\n",
    "A and B and C -> (A and B) and C"
   ]
  },
  {
   "cell_type": "markdown",
   "metadata": {},
   "source": [
    "# De Morgan's Theorem\n",
    "\n",
    "not(A or B) == (not A) and (not B)\n",
    "\n",
    "not(A and B) == (not A) or (not B)"
   ]
  },
  {
   "cell_type": "markdown",
   "metadata": {},
   "source": [
    "# Operator Precedence\n",
    "\n",
    "()\n",
    "\n",
    "< > <= >= == != in is\n",
    "\n",
    "not\n",
    "\n",
    "and\n",
    "\n",
    "or"
   ]
  },
  {
   "cell_type": "markdown",
   "metadata": {},
   "source": [
    "# Short-Circuit Evaluation\n",
    "\n",
    "### or\n",
    "\n",
    "`X or Y`will return True without evaluating Y if X is True\n",
    "\n",
    "### and\n",
    "\n",
    "`X and Y` will return False without evaluating Y if X is False"
   ]
  },
  {
   "cell_type": "code",
   "execution_count": 4,
   "metadata": {},
   "outputs": [],
   "source": [
    "a = 10\n",
    "b = 0\n",
    "\n",
    "if b and a / b > 2:\n",
    "    print('a is at least twice b')"
   ]
  }
 ],
 "metadata": {
  "kernelspec": {
   "display_name": "Python 3",
   "language": "python",
   "name": "python3"
  },
  "language_info": {
   "codemirror_mode": {
    "name": "ipython",
    "version": 3
   },
   "file_extension": ".py",
   "mimetype": "text/x-python",
   "name": "python",
   "nbconvert_exporter": "python",
   "pygments_lexer": "ipython3",
   "version": "3.7.3"
  }
 },
 "nbformat": 4,
 "nbformat_minor": 2
}
