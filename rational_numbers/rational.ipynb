{
 "cells": [
  {
   "cell_type": "markdown",
   "metadata": {},
   "source": [
    "- They are fractions of integer numbers:\n",
    "\n",
    "1/2 \n",
    "\n",
    "-22/7\n",
    "\n",
    "- Or any real number with finite number of digits after decimal point:\n",
    "\n",
    "0.45 = 45/100\n",
    "\n",
    "8.3/4 = 83/40\n",
    "\n",
    "8.3/1.4 = 83/14\n"
   ]
  },
  {
   "cell_type": "markdown",
   "metadata": {},
   "source": [
    "# The fraction class\n",
    "\n",
    "Fractions are automatically reduced:\n",
    "\n",
    "Fraction(6, 10) = Fraction(3, 5)\n",
    "\n",
    "Negative sign is always attached to the numerator:\n",
    "\n",
    "Fraction(1, -4) = Fraction(-1, 4)"
   ]
  },
  {
   "cell_type": "code",
   "execution_count": 1,
   "metadata": {},
   "outputs": [
    {
     "name": "stdout",
     "output_type": "stream",
     "text": [
      "3/4\n"
     ]
    }
   ],
   "source": [
    "from fractions import Fraction\n",
    "x = Fraction(3, 4)\n",
    "print(x)"
   ]
  },
  {
   "cell_type": "markdown",
   "metadata": {},
   "source": [
    "# Constructors\n",
    "\n",
    "- Fraction(numerator=0, denominator=1) -> default values\n",
    "- Fraction(other_fraction)\n",
    "- Fraction(float)\n",
    "- Fraction(decimal)\n",
    "- Fraction(string)"
   ]
  },
  {
   "cell_type": "markdown",
   "metadata": {},
   "source": [
    "# Standard operations\n",
    "\n",
    "Result in Fraction objects."
   ]
  },
  {
   "cell_type": "markdown",
   "metadata": {},
   "source": [
    "# Getting numerator or denominator"
   ]
  },
  {
   "cell_type": "code",
   "execution_count": 2,
   "metadata": {},
   "outputs": [
    {
     "name": "stdout",
     "output_type": "stream",
     "text": [
      "12 7\n"
     ]
    }
   ],
   "source": [
    "from fractions import Fraction\n",
    "x = Fraction(12, 7)\n",
    "\n",
    "print(x.numerator, x.denominator)"
   ]
  },
  {
   "cell_type": "markdown",
   "metadata": {},
   "source": [
    "# Floats\n",
    "\n",
    "Any float object can be written as a fraction:\n",
    "\n",
    "Fraction(0.75) -> Fraction(3, 4)"
   ]
  },
  {
   "cell_type": "markdown",
   "metadata": {},
   "source": [
    "# Irrational numbers\n",
    "\n",
    "- They are internally represented as floats\n",
    "- They are just an approximation\n"
   ]
  },
  {
   "cell_type": "code",
   "execution_count": 5,
   "metadata": {},
   "outputs": [
    {
     "name": "stdout",
     "output_type": "stream",
     "text": [
      "884279719003555/281474976710656\n",
      "6369051672525773/4503599627370496\n"
     ]
    }
   ],
   "source": [
    "import math\n",
    "\n",
    "x = Fraction(math.pi)\n",
    "y = Fraction(math.sqrt(2))\n",
    "\n",
    "print(x)\n",
    "print(y)"
   ]
  },
  {
   "cell_type": "markdown",
   "metadata": {},
   "source": [
    "# Some fractions does not have an exact representation"
   ]
  },
  {
   "cell_type": "code",
   "execution_count": 7,
   "metadata": {},
   "outputs": [
    {
     "name": "stdout",
     "output_type": "stream",
     "text": [
      "5404319552844595/18014398509481984\n",
      "0.30000\n",
      "0.2999999999999999888977698\n"
     ]
    }
   ],
   "source": [
    "x = Fraction(0.3)\n",
    "print(x)\n",
    "\n",
    "print(format(0.3, '.5f'))\n",
    "print(format(0.3, '.25f'))"
   ]
  },
  {
   "cell_type": "markdown",
   "metadata": {},
   "source": [
    "# Constraining the denominator\n",
    "\n",
    "- We can find approximate equivalent fraction using:\n",
    "\n",
    "limit_denominator(max_denominator=1000000) instance method"
   ]
  },
  {
   "cell_type": "code",
   "execution_count": 8,
   "metadata": {},
   "outputs": [
    {
     "name": "stdout",
     "output_type": "stream",
     "text": [
      "22/7\n",
      "311/99\n",
      "355/113\n"
     ]
    }
   ],
   "source": [
    "x = Fraction(math.pi)\n",
    "print(x.limit_denominator(10))\n",
    "print(x.limit_denominator(100))\n",
    "print(x.limit_denominator(500))"
   ]
  }
 ],
 "metadata": {
  "kernelspec": {
   "display_name": "Python 3",
   "language": "python",
   "name": "python3"
  },
  "language_info": {
   "codemirror_mode": {
    "name": "ipython",
    "version": 3
   },
   "file_extension": ".py",
   "mimetype": "text/x-python",
   "name": "python",
   "nbconvert_exporter": "python",
   "pygments_lexer": "ipython3",
   "version": "3.7.3"
  }
 },
 "nbformat": 4,
 "nbformat_minor": 2
}
