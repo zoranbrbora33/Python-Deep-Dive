{
 "cells": [
  {
   "cell_type": "markdown",
   "metadata": {},
   "source": [
    "# The round() function\n",
    "\n",
    "If n is not specified, then it defaults to zero and round(x) will therfore return an int:\n",
    "- round(x)    -> int\n",
    "- round(x, n) -> same type as x\n",
    "- round(x, 0) -> same type as x"
   ]
  },
  {
   "cell_type": "markdown",
   "metadata": {},
   "source": [
    "# n = 0\n",
    "\n",
    "round to the closest multiple of 10<sup>-0</sup> = 1\n",
    "- round(1.23) -> 1"
   ]
  },
  {
   "cell_type": "markdown",
   "metadata": {},
   "source": [
    "# n > 0\n",
    "\n",
    "n = 1 round to the closest multiple of 10<sup>-1</sup> = 0.1\n",
    "- round(1.23, 1) -> 1.2"
   ]
  },
  {
   "cell_type": "markdown",
   "metadata": {},
   "source": [
    "# n < 0\n",
    "\n",
    "n = -1 round to the closest multiple of 10<sup>(-1)</sup> = 10\n",
    "- round(18.2, -1) -> 20"
   ]
  },
  {
   "cell_type": "markdown",
   "metadata": {},
   "source": [
    "# Ties\n",
    "\n",
    "- `Bankers's Rounding` -> rounds to the nearest value, with ties rounded to the nearest value with an `even` least significant digit\n",
    "- Less biased rounding than ties away from zero"
   ]
  },
  {
   "cell_type": "code",
   "execution_count": 4,
   "metadata": {},
   "outputs": [
    {
     "data": {
      "text/plain": [
       "1.2"
      ]
     },
     "execution_count": 4,
     "metadata": {},
     "output_type": "execute_result"
    }
   ],
   "source": [
    "# Example 1\n",
    "# Here the round select between 1.2 nd 1.3, result is 1.2 because `2` in `1.2` is the even least significant digit\n",
    "round(1.25, 1)"
   ]
  },
  {
   "cell_type": "code",
   "execution_count": 5,
   "metadata": {},
   "outputs": [
    {
     "data": {
      "text/plain": [
       "1.4"
      ]
     },
     "execution_count": 5,
     "metadata": {},
     "output_type": "execute_result"
    }
   ],
   "source": [
    "# Example 2\n",
    "# Here the round select between 1.3 nd 1.4, result is 1.4 because `4` in `1.4` is the even least significant digit\n",
    "round(1.35, 1)"
   ]
  },
  {
   "cell_type": "markdown",
   "metadata": {},
   "source": [
    "# Implementing rounding away from zero\n",
    "\n",
    "- Python does not have implemented rounding away from zero so we use custom:\n",
    "\n",
    "`sign(x) * int(abs(x) 0.5)`\n",
    "\n",
    "Pyhton does not have sign function so we use `math.copysign()`"
   ]
  },
  {
   "cell_type": "code",
   "execution_count": 6,
   "metadata": {},
   "outputs": [],
   "source": [
    "# This technique only rounds to intger value\n",
    "def _round(x):\n",
    "    from math import copysign\n",
    "    return int(x + 0.5 * copysign(1, x))"
   ]
  },
  {
   "cell_type": "code",
   "execution_count": 7,
   "metadata": {},
   "outputs": [
    {
     "data": {
      "text/plain": [
       "(2, 2)"
      ]
     },
     "execution_count": 7,
     "metadata": {},
     "output_type": "execute_result"
    }
   ],
   "source": [
    "round(1.5), _round(1.5)"
   ]
  },
  {
   "cell_type": "code",
   "execution_count": 10,
   "metadata": {},
   "outputs": [
    {
     "data": {
      "text/plain": [
       "(2, 3)"
      ]
     },
     "execution_count": 10,
     "metadata": {},
     "output_type": "execute_result"
    }
   ],
   "source": [
    "round(2.5), _round(2.5)"
   ]
  },
  {
   "cell_type": "code",
   "execution_count": 11,
   "metadata": {},
   "outputs": [
    {
     "data": {
      "text/plain": [
       "(-2, -3)"
      ]
     },
     "execution_count": 11,
     "metadata": {},
     "output_type": "execute_result"
    }
   ],
   "source": [
    "round(-2.5), _round(-2.5)"
   ]
  }
 ],
 "metadata": {
  "kernelspec": {
   "display_name": "Python 3",
   "language": "python",
   "name": "python3"
  },
  "language_info": {
   "codemirror_mode": {
    "name": "ipython",
    "version": 3
   },
   "file_extension": ".py",
   "mimetype": "text/x-python",
   "name": "python",
   "nbconvert_exporter": "python",
   "pygments_lexer": "ipython3",
   "version": "3.7.3"
  }
 },
 "nbformat": 4,
 "nbformat_minor": 2
}
