{
 "cells": [
  {
   "cell_type": "markdown",
   "metadata": {},
   "source": [
    "# Memory Address\n",
    "\n",
    "- Objects can occupy one or more memory addresses. \n",
    "- That is called the `Heap`.\n",
    "- Storing and retreiving objects from the `Heap` is done for me by the `Python Memory Manager`."
   ]
  },
  {
   "cell_type": "markdown",
   "metadata": {},
   "source": [
    "my_var_1 = 10\n",
    "\n",
    "`my_var_1` first gets created and stored somewhere in memory.\n",
    "\n",
    "`my_var_1` is simply a reference of the memory address where that object is stored."
   ]
  },
  {
   "cell_type": "markdown",
   "metadata": {},
   "source": [
    "# id() function\n",
    "\n",
    "Used to find memory address referenced by the variable.\n",
    "Returns a base-10 number."
   ]
  },
  {
   "cell_type": "markdown",
   "metadata": {},
   "source": [
    "# hex() function\n",
    "\n",
    "Converts base-10 number to hexidecimal."
   ]
  },
  {
   "cell_type": "code",
   "execution_count": 6,
   "metadata": {},
   "outputs": [],
   "source": [
    "a = 20"
   ]
  },
  {
   "cell_type": "code",
   "execution_count": 7,
   "metadata": {},
   "outputs": [
    {
     "name": "stdout",
     "output_type": "stream",
     "text": [
      "4510474192\n"
     ]
    }
   ],
   "source": [
    "b = id(10)\n",
    "print(b)"
   ]
  },
  {
   "cell_type": "code",
   "execution_count": 8,
   "metadata": {},
   "outputs": [
    {
     "name": "stdout",
     "output_type": "stream",
     "text": [
      "0x10cd85fd0\n"
     ]
    }
   ],
   "source": [
    "print(hex(b))"
   ]
  }
 ],
 "metadata": {
  "kernelspec": {
   "display_name": "Python 3",
   "language": "python",
   "name": "python3"
  },
  "language_info": {
   "codemirror_mode": {
    "name": "ipython",
    "version": 3
   },
   "file_extension": ".py",
   "mimetype": "text/x-python",
   "name": "python",
   "nbconvert_exporter": "python",
   "pygments_lexer": "ipython3",
   "version": "3.7.3"
  }
 },
 "nbformat": 4,
 "nbformat_minor": 2
}
