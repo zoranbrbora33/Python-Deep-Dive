{
 "cells": [
  {
   "cell_type": "markdown",
   "metadata": {},
   "source": [
    "# *args\n",
    "\n",
    "- It behaves the same in funtions as unpacking iterables, but we end with a tuple not a list\n",
    "- parameter name is arbitrary, but it is customary to name it `*args`\n",
    "- cannot add more positional arguments after *args"
   ]
  }
 ],
 "metadata": {
  "language_info": {
   "name": "python"
  }
 },
 "nbformat": 4,
 "nbformat_minor": 2
}
