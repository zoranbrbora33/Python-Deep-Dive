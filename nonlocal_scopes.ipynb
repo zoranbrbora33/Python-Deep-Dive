{
 "cells": [
  {
   "cell_type": "markdown",
   "metadata": {},
   "source": [
    "# Inner Functions\n",
    "\n",
    "- inner function has access to its enclosing scope - the scope of the outer function\n",
    "- that scope is neither local nor global - it is called a `nonlocal scope`"
   ]
  },
  {
   "cell_type": "code",
   "execution_count": 12,
   "metadata": {},
   "outputs": [
    {
     "name": "stdout",
     "output_type": "stream",
     "text": [
      "10\n"
     ]
    }
   ],
   "source": [
    "def outer_func():\n",
    "    # `nonlocal scope`\n",
    "    a = 10\n",
    "    \n",
    "    def inner_func():\n",
    "        # this a is found in `nonlocal scope`\n",
    "        print(a)\n",
    "        \n",
    "    inner_func()\n",
    "    \n",
    "outer_func()"
   ]
  },
  {
   "cell_type": "markdown",
   "metadata": {},
   "source": [
    "# Modifying global variables\n",
    "\n",
    "- `global` -> using it the same way in the inner function to modify global variables, doesn't matter where we are in the code"
   ]
  },
  {
   "cell_type": "code",
   "execution_count": 13,
   "metadata": {},
   "outputs": [
    {
     "name": "stdout",
     "output_type": "stream",
     "text": [
      "10\n",
      "hello\n",
      "hello\n"
     ]
    }
   ],
   "source": [
    "a = 10\n",
    "\n",
    "def outer_func():\n",
    "    # here value is original\n",
    "    print(a)\n",
    "    def inner_func():\n",
    "        global a\n",
    "        a = 'hello'\n",
    "        # value is modified\n",
    "        print(a)\n",
    "    \n",
    "    inner_func()\n",
    "    \n",
    "outer_func()\n",
    "# value modified when function finishes executing\n",
    "print(a)"
   ]
  },
  {
   "cell_type": "markdown",
   "metadata": {},
   "source": [
    "# Modifiying nonlocal variables"
   ]
  },
  {
   "cell_type": "code",
   "execution_count": 14,
   "metadata": {},
   "outputs": [
    {
     "name": "stdout",
     "output_type": "stream",
     "text": [
      "20\n",
      "10\n"
     ]
    }
   ],
   "source": [
    "def outer_func():\n",
    "    x = 10\n",
    "    \n",
    "    def inner_func():\n",
    "        x = 20\n",
    "        # here x is masked and the value is 20\n",
    "        print(x)\n",
    "        \n",
    "    inner_func()\n",
    "    # here x has the same value 10\n",
    "    print(x)\n",
    "    \n",
    "outer_func()"
   ]
  },
  {
   "cell_type": "markdown",
   "metadata": {},
   "source": [
    "- `nonlocal` keyword is used to modify nonlocal variable\n",
    "- it will look only in the local scopes, it will not look in the global scope"
   ]
  },
  {
   "cell_type": "code",
   "execution_count": 15,
   "metadata": {},
   "outputs": [
    {
     "name": "stdout",
     "output_type": "stream",
     "text": [
      "20\n",
      "20\n"
     ]
    }
   ],
   "source": [
    "def outer_func():\n",
    "    x = 10\n",
    "    \n",
    "    def inner_func():\n",
    "        # specifying to modify nonlocal variable\n",
    "        nonlocal x\n",
    "        x = 20\n",
    "        # here x is masked and the value is 20\n",
    "        print(x)\n",
    "        \n",
    "    inner_func()\n",
    "    # nonlocal variable x is changed to 20\n",
    "    print(x)\n",
    "    \n",
    "outer_func()"
   ]
  }
 ],
 "metadata": {
  "kernelspec": {
   "display_name": "Python 3",
   "language": "python",
   "name": "python3"
  },
  "language_info": {
   "codemirror_mode": {
    "name": "ipython",
    "version": 3
   },
   "file_extension": ".py",
   "mimetype": "text/x-python",
   "name": "python",
   "nbconvert_exporter": "python",
   "pygments_lexer": "ipython3",
   "version": "3.7.3"
  }
 },
 "nbformat": 4,
 "nbformat_minor": 2
}
