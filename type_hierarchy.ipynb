{
 "cells": [
  {
   "cell_type": "markdown",
   "metadata": {},
   "source": [
    "# Numbers\n",
    "\n",
    "## Integral\n",
    "- Integers\n",
    "- Boolean\n",
    "\n",
    "## Non-Integral\n",
    "- Floats (c doubles)\n",
    "- Complex\n",
    "- Decimals\n",
    "- Fractions"
   ]
  }
 ],
 "metadata": {
  "language_info": {
   "name": "python"
  }
 },
 "nbformat": 4,
 "nbformat_minor": 2
}
