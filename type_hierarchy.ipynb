{
 "cells": [
  {
   "cell_type": "markdown",
   "metadata": {},
   "source": [
    "# Numbers\n",
    "\n",
    "## Integral\n",
    "- Integers\n",
    "- Boolean\n",
    "\n",
    "## Non-Integral\n",
    "- Floats (c doubles)\n",
    "- Complex\n",
    "- Decimals\n",
    "- Fractions"
   ]
  },
  {
   "cell_type": "markdown",
   "metadata": {},
   "source": [
    "# Collections\n",
    "\n",
    "## Sequences\n",
    "- Mutable (Lists)\n",
    "- Immutable (Tuples, Strings)\n",
    "\n",
    "## Sets\n",
    "- Mutable (Sets)\n",
    "- Immutable (Frozen Sets)\n",
    "\n",
    "## Mappings\n",
    "- Dictionaries"
   ]
  },
  {
   "cell_type": "markdown",
   "metadata": {},
   "source": [
    "# Callables\n",
    "\n",
    "- User-Defined Functions\n",
    "- Generators\n",
    "- Classes\n",
    "- Instance Methods\n",
    "- Class Instances (__call__())\n",
    "- Built-in Functions (len(), open())\n",
    "- Built-in Methods (my_list.append(x))"
   ]
  },
  {
   "cell_type": "markdown",
   "metadata": {},
   "source": [
    "# Singletons\n",
    "- None\n",
    "- NonImplemented\n",
    "- Ellipsis"
   ]
  }
 ],
 "metadata": {
  "language_info": {
   "name": "python"
  }
 },
 "nbformat": 4,
 "nbformat_minor": 2
}
