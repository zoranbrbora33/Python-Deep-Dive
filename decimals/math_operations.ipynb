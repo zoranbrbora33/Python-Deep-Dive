{
 "cells": [
  {
   "cell_type": "markdown",
   "metadata": {},
   "source": [
    "# //\n",
    "\n",
    "- for integers it performs floor division:\n",
    "\n",
    "10 // 3  -> 3\n",
    "-10 // 3 -> -4\n",
    "\n",
    "- for Decimals it performs truncation:\n",
    "\n",
    "Decimal(10) // Decimal(3)  -> Decimal(3)\n",
    "\n",
    "Decimal(-10) // Decimal(3) -> Decimal(-3)"
   ]
  },
  {
   "cell_type": "markdown",
   "metadata": {},
   "source": [
    "### How alghoritm works\n",
    "\n",
    "dividend / divisor\n",
    "\n",
    "- figure out the sign of the result\n",
    "- use absolute values for divisor and dividend\n",
    "- keep substracting divisor from dividend as long as dividend >= divisor\n",
    "- return the signed number of times this was performed"
   ]
  },
  {
   "cell_type": "markdown",
   "metadata": {},
   "source": [
    "# Other Mathematical operations\n",
    "\n",
    "- Some operations does not exist like in math module (like tiginometry functions)\n",
    "- if we use math module the decimal will be cast to float so we lose the precision why we even started using decimals"
   ]
  },
  {
   "cell_type": "code",
   "execution_count": 5,
   "metadata": {},
   "outputs": [
    {
     "name": "stdout",
     "output_type": "stream",
     "text": [
      "-2.302585092994045684017991455\n",
      "1.105170918075647624811707826\n",
      "0.3162277660168379331998893544\n"
     ]
    }
   ],
   "source": [
    "import decimal\n",
    "from decimal import Decimal\n",
    "\n",
    "a = Decimal('0.1')\n",
    "print(a.ln())\n",
    "print(a.exp())\n",
    "print(a.sqrt())"
   ]
  },
  {
   "cell_type": "code",
   "execution_count": 7,
   "metadata": {},
   "outputs": [
    {
     "data": {
      "text/plain": [
       "0.31622776601683794"
      ]
     },
     "execution_count": 7,
     "metadata": {},
     "output_type": "execute_result"
    }
   ],
   "source": [
    "import math\n",
    "\n",
    "# Here is a different result because it casts decimal to float first\n",
    "math.sqrt(a)"
   ]
  }
 ],
 "metadata": {
  "kernelspec": {
   "display_name": "Python 3",
   "language": "python",
   "name": "python3"
  },
  "language_info": {
   "codemirror_mode": {
    "name": "ipython",
    "version": 3
   },
   "file_extension": ".py",
   "mimetype": "text/x-python",
   "name": "python",
   "nbconvert_exporter": "python",
   "pygments_lexer": "ipython3",
   "version": "3.7.3"
  }
 },
 "nbformat": 4,
 "nbformat_minor": 2
}
